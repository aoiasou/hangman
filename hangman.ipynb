{
 "cells": [
  {
   "cell_type": "code",
   "execution_count": 1,
   "metadata": {
    "collapsed": true
   },
   "outputs": [],
   "source": [
    "# hangman code\n",
    "\n",
    "def hangman(word):\n",
    "    wrong = 0\n",
    "    stages = [\"\",\n",
    "              \"_______       \",\n",
    "              \"|             \",\n",
    "              \"|      |      \",\n",
    "              \"|      0      \",\n",
    "              \"|     /|\\     \",\n",
    "              \"|     / \\     \",\n",
    "              \"|             \"             \n",
    "               ]\n",
    "    rletters = list(word)\n",
    "    board = [\"_\"]*len(word)\n",
    "    win = False\n",
    "    print(\"Welcome to Hangman\")\n",
    "    \n",
    "    while wrong < len(stages) - 1:\n",
    "        print(\"\\n\")\n",
    "        msg = \"Guess a letter\"\n",
    "        char = input(msg)\n",
    "        if char in rletters:\n",
    "            cind = rletters.index(char)\n",
    "            board[cind] = char\n",
    "            rletters[cind] = '$'\n",
    "        else:\n",
    "            wrong += 1\n",
    "        print((\" \".join(board)))\n",
    "        e = wrong + 1\n",
    "        print(\"\\n\".join(stages[0: e]))\n",
    "        if \"_\" not in board:\n",
    "            print(\"You Win!\")\n",
    "            print(\" \".join(board))\n",
    "            win = True\n",
    "            break\n",
    "            \n",
    "    if not win:\n",
    "        print(\"\\n\".join(stages[0: wrong]))\n",
    "        print(\"You lose! It was {}.\".format(word))\n",
    "        \n",
    "    return"
   ]
  },
  {
   "cell_type": "code",
   "execution_count": null,
   "metadata": {
    "collapsed": true
   },
   "outputs": [],
   "source": []
  }
 ],
 "metadata": {
  "kernelspec": {
   "display_name": "Python 2",
   "language": "python",
   "name": "python2"
  },
  "language_info": {
   "codemirror_mode": {
    "name": "ipython",
    "version": 2
   },
   "file_extension": ".py",
   "mimetype": "text/x-python",
   "name": "python",
   "nbconvert_exporter": "python",
   "pygments_lexer": "ipython2",
   "version": "2.7.13"
  }
 },
 "nbformat": 4,
 "nbformat_minor": 2
}
